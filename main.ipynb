{
 "cells": [
  {
   "cell_type": "code",
   "execution_count": 1,
   "id": "0c769b86",
   "metadata": {},
   "outputs": [],
   "source": [
    "import fastapi_tags as ft"
   ]
  },
  {
   "cell_type": "code",
   "execution_count": 3,
   "id": "b58bedce",
   "metadata": {},
   "outputs": [
    {
     "data": {
      "text/plain": [
       "'<p>This is a<strong>cut off</strong>sentence</p>'"
      ]
     },
     "execution_count": 3,
     "metadata": {},
     "output_type": "execute_result"
    }
   ],
   "source": [
    "ft.P(\"This is a\", ft.Strong(\"cut off\"), \"sentence\").render()"
   ]
  },
  {
   "cell_type": "code",
   "execution_count": null,
   "id": "73f49705",
   "metadata": {},
   "outputs": [],
   "source": []
  }
 ],
 "metadata": {
  "kernelspec": {
   "display_name": ".venv",
   "language": "python",
   "name": "python3"
  },
  "language_info": {
   "codemirror_mode": {
    "name": "ipython",
    "version": 3
   },
   "file_extension": ".py",
   "mimetype": "text/x-python",
   "name": "python",
   "nbconvert_exporter": "python",
   "pygments_lexer": "ipython3",
   "version": "3.13.1"
  }
 },
 "nbformat": 4,
 "nbformat_minor": 5
}
